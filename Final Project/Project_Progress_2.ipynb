{
 "cells": [
  {
   "cell_type": "markdown",
   "id": "91342506",
   "metadata": {},
   "source": [
    "### Import all the relevant packages"
   ]
  },
  {
   "cell_type": "code",
   "execution_count": 3,
   "id": "9863cc95",
   "metadata": {},
   "outputs": [],
   "source": [
    "import numpy as np\n",
    "from tqdm import tqdm\n",
    "import cv2\n",
    "import os\n",
    "import shutil\n",
    "import itertools\n",
    "import imutils\n",
    "import matplotlib.pyplot as plt\n",
    "from sklearn.preprocessing import LabelBinarizer\n",
    "from sklearn.model_selection import train_test_split\n",
    "from sklearn.metrics import accuracy_score, confusion_matrix\n",
    "\n",
    "import chart_studio.plotly  as py\n",
    "from chart_studio.plotly import iplot\n",
    "import plotly.graph_objs as go\n",
    "from plotly.offline import init_notebook_mode, iplot\n",
    "from plotly import tools\n",
    "from PIL import Image\n",
    "from sklearn.preprocessing import OneHotEncoder\n",
    "from sklearn.metrics import classification_report, confusion_matrix\n",
    "\n",
    "from keras.preprocessing.image import ImageDataGenerator\n",
    "from keras.applications.vgg16 import VGG16, preprocess_input\n",
    "from keras.applications.resnet import ResNet50, preprocess_input\n",
    "from keras.applications.inception_v3 import InceptionV3, preprocess_input\n",
    "\n",
    "\n",
    "from keras import layers\n",
    "from keras.models import Model,Sequential\n",
    "from keras.optimizers import Adam, RMSprop\n",
    "from keras.callbacks import EarlyStopping"
   ]
  },
  {
   "cell_type": "markdown",
   "id": "ddafc4e0",
   "metadata": {},
   "source": [
    "## Define useful functions"
   ]
  },
  {
   "cell_type": "code",
   "execution_count": 3,
   "id": "69b3928b",
   "metadata": {},
   "outputs": [],
   "source": [
    "# def load_data(dir_path, img_size=(100,100)):\n",
    "#     \"\"\"\n",
    "#     Load images as np.arrays to workspace\n",
    "#     \"\"\"\n",
    "#     X = []\n",
    "#     y = []\n",
    "#     i = 0\n",
    "#     labels = dict()\n",
    "#     for path in tqdm(sorted(os.listdir(dir_path))):\n",
    "#         if not path.startswith('.'):\n",
    "#             labels[i] = path\n",
    "#             for file in os.listdir(dir_path + path):\n",
    "#                 if not file.startswith('.'):\n",
    "#                     img = cv2.imread(dir_path + path + '/' + file)\n",
    "#                     X.append(img)\n",
    "#                     y.append(i)\n",
    "#             i += 1\n",
    "#     X = np.array(X)\n",
    "#     y = np.array(y)\n",
    "#     print(f'{len(X)} images loaded from {dir_path} directory.')\n",
    "#     return X, y, labels\n",
    "\n",
    "\n",
    "\n",
    "def plot_confusion_matrix(cm, classes,\n",
    "                          normalize=False,\n",
    "                          title='Confusion matrix',\n",
    "                          cmap=plt.cm.Blues):\n",
    "\n",
    "    plt.figure(figsize = (6,6))\n",
    "    plt.imshow(cm, interpolation='nearest', cmap=cmap)\n",
    "    plt.title(title)\n",
    "    plt.colorbar()\n",
    "    tick_marks = np.arange(len(classes))\n",
    "    plt.xticks(tick_marks, classes, rotation=90)\n",
    "    plt.yticks(tick_marks, classes)\n",
    "    if normalize:\n",
    "        cm = cm.astype('float') / cm.sum(axis=1)[:, np.newaxis]\n",
    "\n",
    "    thresh = cm.max() / 2.\n",
    "    cm = np.round(cm,2)\n",
    "    for i, j in itertools.product(range(cm.shape[0]), range(cm.shape[1])):\n",
    "        plt.text(j, i, cm[i, j],\n",
    "                 horizontalalignment=\"center\",\n",
    "                 color=\"white\" if cm[i, j] > thresh else \"black\")\n",
    "    plt.tight_layout()\n",
    "    plt.ylabel('True label')\n",
    "    plt.xlabel('Predicted label')\n",
    "    plt.show()\n",
    "\n",
    "# def plot_samples(X, y, labels_dict, n=50):\n",
    "#     \"\"\"\n",
    "#     Creates a gridplot for desired number of images (n) from the specified set\n",
    "#     \"\"\"\n",
    "#     for index in range(len(labels_dict)):\n",
    "#         imgs = X[np.argwhere(y == index)][:n]\n",
    "#         j = 10\n",
    "#         i = int(n/j)\n",
    "\n",
    "#         plt.figure(figsize=(15,6))\n",
    "#         c = 1\n",
    "#         for img in imgs:\n",
    "#             plt.subplot(i,j,c)\n",
    "#             plt.imshow(img[0])\n",
    "\n",
    "#             plt.xticks([])\n",
    "#             plt.yticks([])\n",
    "#             c += 1\n",
    "#         plt.suptitle('Tumor: {}'.format(labels_dict[index]))\n",
    "#         plt.show()\n",
    "\n",
    "# def crop_imgs(set_name, add_pixels_value=0):\n",
    "#     \"\"\"\n",
    "#     Finds the extreme points on the image and crops the rectangular out of them\n",
    "#     \"\"\"\n",
    "#     set_new = []\n",
    "#     for img in set_name:\n",
    "#         gray = cv2.cvtColor(img, cv2.COLOR_RGB2GRAY)\n",
    "#         gray = cv2.GaussianBlur(gray, (5, 5), 0)\n",
    "\n",
    "#         # threshold the image, then perform a series of erosions +\n",
    "#         # dilations to remove any small regions of noise\n",
    "#         thresh = cv2.threshold(gray, 45, 255, cv2.THRESH_BINARY)[1]\n",
    "#         thresh = cv2.erode(thresh, None, iterations=2)\n",
    "#         thresh = cv2.dilate(thresh, None, iterations=2)\n",
    "\n",
    "#         # find contours in thresholded image, then grab the largest one\n",
    "#         cnts = cv2.findContours(thresh.copy(), cv2.RETR_EXTERNAL, cv2.CHAIN_APPROX_SIMPLE)\n",
    "#         cnts = imutils.grab_contours(cnts)\n",
    "#         c = max(cnts, key=cv2.contourArea)\n",
    "\n",
    "#         # find the extreme points\n",
    "#         extLeft = tuple(c[c[:, :, 0].argmin()][0])\n",
    "#         extRight = tuple(c[c[:, :, 0].argmax()][0])\n",
    "#         extTop = tuple(c[c[:, :, 1].argmin()][0])\n",
    "#         extBot = tuple(c[c[:, :, 1].argmax()][0])\n",
    "\n",
    "#         ADD_PIXELS = add_pixels_value\n",
    "#         new_img = img[extTop[1]-ADD_PIXELS:extBot[1]+ADD_PIXELS, extLeft[0]-ADD_PIXELS:extRight[0]+ADD_PIXELS].copy()\n",
    "#         set_new.append(new_img)\n",
    "\n",
    "#     return np.array(set_new)\n",
    "\n",
    "\n",
    "def save_new_images(x_set, y_set, folder_name):\n",
    "    i = 0\n",
    "    for (img, imclass) in zip(x_set, y_set):\n",
    "        if imclass == 0:\n",
    "            cv2.imwrite(folder_name+'NO/'+str(i)+'.jpg', img)\n",
    "        else:\n",
    "            cv2.imwrite(folder_name+'YES/'+str(i)+'.jpg', img)\n",
    "        i += 1\n",
    "\n",
    "\n",
    "def preprocess_imgs(set_name, img_size):\n",
    "    \"\"\"\n",
    "    Resize and apply VGG-15 preprocessing\n",
    "    \"\"\"\n",
    "    set_new = []\n",
    "    for img in set_name:\n",
    "        img = cv2.resize(\n",
    "            img,\n",
    "            dsize=img_size,\n",
    "            interpolation=cv2.INTER_CUBIC\n",
    "        )\n",
    "        set_new.append(preprocess_input(img))\n",
    "    return np.array(set_new)"
   ]
  },
  {
   "cell_type": "markdown",
   "id": "18b8a2bd",
   "metadata": {},
   "source": [
    "## Data Preparation\n",
    "### This section includes three steps\n",
    "#### 1. Define the path of images\n",
    "#### 2. Split the images into train, test, and validate sets\n",
    "#### 3. Save the splitted images into each folders"
   ]
  },
  {
   "cell_type": "code",
   "execution_count": 9,
   "id": "7b96fef6",
   "metadata": {},
   "outputs": [],
   "source": [
    "RANDOM_SEED = 1234\n",
    "#For MAC or Linus\n",
    "IMG_PATH = '/home/jerry/Documents/Program/brain_tumor_dataset/'\n",
    "dest='/home/jerry/ghworkspace/machine_learning/Final Project/dest/'\n",
    "\n",
    "\n",
    "#For windows\n",
    "# IMG_PATH = 'D:\\\\UCF Coursework\\\\ML Project\\\\Program\\\\brain_tumor_dataset\\\\'\n",
    "# dest = 'D:\\\\UCF Coursework\\\\ML Project\\\\Program\\\\dset\\\\'model.add(base_model)"
   ]
  },
  {
   "cell_type": "code",
   "execution_count": 14,
   "id": "db5c59bc",
   "metadata": {},
   "outputs": [
    {
     "ename": "FileExistsError",
     "evalue": "[Errno 17] File exists: '/home/jerry/Documents/Program/dest/TRAIN'",
     "output_type": "error",
     "traceback": [
      "\u001b[0;31m---------------------------------------------------------------------------\u001b[0m",
      "\u001b[0;31mFileExistsError\u001b[0m                           Traceback (most recent call last)",
      "\u001b[0;32m<ipython-input-14-71a91b935af9>\u001b[0m in \u001b[0;36m<module>\u001b[0;34m\u001b[0m\n\u001b[1;32m      1\u001b[0m \u001b[0;31m## Making Directory\u001b[0m\u001b[0;34m\u001b[0m\u001b[0;34m\u001b[0m\u001b[0;34m\u001b[0m\u001b[0m\n\u001b[0;32m----> 2\u001b[0;31m \u001b[0mos\u001b[0m\u001b[0;34m.\u001b[0m\u001b[0mmkdir\u001b[0m\u001b[0;34m(\u001b[0m\u001b[0mdest\u001b[0m\u001b[0;34m+\u001b[0m\u001b[0;34m'TRAIN'\u001b[0m\u001b[0;34m)\u001b[0m\u001b[0;34m\u001b[0m\u001b[0;34m\u001b[0m\u001b[0m\n\u001b[0m\u001b[1;32m      3\u001b[0m \u001b[0mos\u001b[0m\u001b[0;34m.\u001b[0m\u001b[0mmkdir\u001b[0m\u001b[0;34m(\u001b[0m\u001b[0mdest\u001b[0m\u001b[0;34m+\u001b[0m\u001b[0;34m'TRAIN\\\\YES'\u001b[0m\u001b[0;34m)\u001b[0m\u001b[0;34m\u001b[0m\u001b[0;34m\u001b[0m\u001b[0m\n\u001b[1;32m      4\u001b[0m \u001b[0mos\u001b[0m\u001b[0;34m.\u001b[0m\u001b[0mmkdir\u001b[0m\u001b[0;34m(\u001b[0m\u001b[0mdest\u001b[0m\u001b[0;34m+\u001b[0m\u001b[0;34m'TRAIN\\\\NO'\u001b[0m\u001b[0;34m)\u001b[0m\u001b[0;34m\u001b[0m\u001b[0;34m\u001b[0m\u001b[0m\n\u001b[1;32m      5\u001b[0m \u001b[0;34m\u001b[0m\u001b[0m\n",
      "\u001b[0;31mFileExistsError\u001b[0m: [Errno 17] File exists: '/home/jerry/Documents/Program/dest/TRAIN'"
     ]
    }
   ],
   "source": [
    "\n",
    "## Making Directory\n",
    "os.mkdir(dest+'TRAIN')\n",
    "os.mkdir(dest+'TRAIN\\\\YES')\n",
    "os.mkdir(dest+'TRAIN\\\\NO')\n",
    "\n",
    "os.mkdir(dest+'VAL')\n",
    "os.mkdir(dest+'VAL\\\\YES')\n",
    "os.mkdir(dest+'VAL\\\\NO')\n",
    "\n",
    "os.mkdir(dest+'TEST')\n",
    "os.mkdir(dest+'TEST\\\\YES')\n",
    "os.mkdir(dest+'TEST\\\\NO')\n",
    "\n",
    "# split the data by train/val/test\n",
    "for CLASS in os.listdir(IMG_PATH):\n",
    "    if not CLASS.startswith('.'):\n",
    "        IMG_NUM = len(os.listdir(IMG_PATH + CLASS))\n",
    "        for (n, FILE_NAME) in enumerate(os.listdir(IMG_PATH + CLASS)):\n",
    "            img = IMG_PATH + CLASS + '\\\\' + FILE_NAME\n",
    "            if n < 5:\n",
    "                shutil.copy(img, dest+'TEST\\\\' + CLASS.upper() + '\\\\' + FILE_NAME)\n",
    "            elif n < 0.8*IMG_NUM:\n",
    "                shutil.copy(img, dest+'TRAIN\\\\'+ CLASS.upper() + '\\\\' + FILE_NAME)\n",
    "            else:\n",
    "                shutil.copy(img, dest+'VAL\\\\'+ CLASS.upper() + '\\\\' + FILE_NAME)\n",
    "\n",
    "\n"
   ]
  },
  {
   "cell_type": "code",
   "execution_count": 10,
   "id": "95d69467",
   "metadata": {},
   "outputs": [],
   "source": [
    "# For windows\n",
    "# TRAIN_DIR = dest+'TRAIN\\\\'\n",
    "# TEST_DIR =  dest+'TEST\\\\'\n",
    "# VAL_DIR =  dest+'VAL\\\\'\n",
    "\n",
    "#For MAC or Linux\n",
    "TRAIN_DIR = dest+'TRAIN/'\n",
    "TEST_DIR =  dest+'TEST/'\n",
    "VAL_DIR =  dest+'VAL/'\n",
    "\n"
   ]
  },
  {
   "cell_type": "code",
   "execution_count": 11,
   "id": "9b4f9e9d",
   "metadata": {},
   "outputs": [],
   "source": [
    "IMG_SIZE = (224,224) #Size of VGG-16"
   ]
  },
  {
   "cell_type": "markdown",
   "id": "eed834f9",
   "metadata": {},
   "source": [
    "## Define data augumentation method"
   ]
  },
  {
   "cell_type": "markdown",
   "id": "9487b6fb",
   "metadata": {},
   "source": [
    "### Task 1: Rotation"
   ]
  },
  {
   "cell_type": "code",
   "execution_count": 20,
   "id": "f04a1fbe",
   "metadata": {},
   "outputs": [
    {
     "name": "stdout",
     "output_type": "stream",
     "text": [
      "Found 193 images belonging to 2 classes.\n",
      "Found 50 images belonging to 2 classes.\n",
      "Found 10 images belonging to 2 classes.\n"
     ]
    }
   ],
   "source": [
    "epochs = 30\n",
    "batch_size = 60\n",
    "train_datagen = ImageDataGenerator(\n",
    "    rotation_range=15,\n",
    "    width_shift_range = 0.1,\n",
    "    height_shift_range = 0.1,\n",
    "    shear_range = 0.1,\n",
    "    horizontal_flip = True,\n",
    "    vertical_flip = True,\n",
    "    preprocessing_function = preprocess_input,\n",
    ")\n",
    "\n",
    "test_datagen = ImageDataGenerator(\n",
    "    rotation_range=15,\n",
    "    width_shift_range = 0.1,\n",
    "    height_shift_range = 0.1,\n",
    ")\n",
    "train_generator = train_datagen.flow_from_directory(\n",
    "    TRAIN_DIR,\n",
    "    target_size=(224, 224),\n",
    "    batch_size=batch_size,\n",
    "    class_mode='binary')\n",
    "\n",
    "validation_generator = test_datagen.flow_from_directory(\n",
    "    VAL_DIR,\n",
    "    target_size=(224, 224),\n",
    "    batch_size=batch_size,\n",
    "    class_mode='binary')\n",
    "test_generator = test_datagen.flow_from_directory(\n",
    "    TEST_DIR,\n",
    "    target_size=(224, 224),\n",
    "    batch_size=batch_size,\n",
    "    class_mode='binary')"
   ]
  },
  {
   "cell_type": "markdown",
   "id": "1d0d83a3",
   "metadata": {},
   "source": [
    "### Task 2: Zoom"
   ]
  },
  {
   "cell_type": "code",
   "execution_count": 94,
   "id": "162f2f8e",
   "metadata": {},
   "outputs": [
    {
     "name": "stdout",
     "output_type": "stream",
     "text": [
      "Found 193 images belonging to 2 classes.\n",
      "Found 50 images belonging to 2 classes.\n",
      "Found 10 images belonging to 2 classes.\n"
     ]
    }
   ],
   "source": [
    "epochs = 30\n",
    "batch_size = 60\n",
    "train_datagen = ImageDataGenerator(\n",
    "    zoom_range=0.5,\n",
    ")\n",
    "\n",
    "test_datagen = ImageDataGenerator(\n",
    "    zoom_range=0.5,\n",
    "    rotation_range=15,\n",
    ")\n",
    "train_generator = train_datagen.flow_from_directory(\n",
    "    TRAIN_DIR,\n",
    "    target_size=(224, 224),\n",
    "    batch_size=batch_size,\n",
    "    class_mode='binary')\n",
    "\n",
    "validation_generator = test_datagen.flow_from_directory(\n",
    "    VAL_DIR,\n",
    "    target_size=(224, 224),\n",
    "    batch_size=batch_size,\n",
    "    class_mode='binary')\n",
    "test_generator = test_datagen.flow_from_directory(\n",
    "    TEST_DIR,\n",
    "    target_size=(224, 224),\n",
    "    batch_size=batch_size,\n",
    "    class_mode='binary')"
   ]
  },
  {
   "cell_type": "markdown",
   "id": "0cc710a9",
   "metadata": {},
   "source": [
    "### Task 3: Normalization"
   ]
  },
  {
   "cell_type": "code",
   "execution_count": 105,
   "id": "6f237941",
   "metadata": {},
   "outputs": [
    {
     "name": "stdout",
     "output_type": "stream",
     "text": [
      "Found 193 images belonging to 2 classes.\n",
      "Found 50 images belonging to 2 classes.\n",
      "Found 10 images belonging to 2 classes.\n"
     ]
    }
   ],
   "source": [
    "epochs = 30\n",
    "batch_size = 60\n",
    "train_datagen = ImageDataGenerator(\n",
    "    featurewise_center = True,\n",
    "    featurewise_std_normalization = True\n",
    ")\n",
    "\n",
    "test_datagen = ImageDataGenerator(\n",
    "    featurewise_center = True,\n",
    "    featurewise_std_normalization = True,\n",
    "    rotation_range=15,\n",
    ")\n",
    "train_generator = train_datagen.flow_from_directory(\n",
    "    TRAIN_DIR,\n",
    "    target_size=(224, 224),\n",
    "    batch_size=batch_size,\n",
    "    class_mode='binary')\n",
    "\n",
    "validation_generator = test_datagen.flow_from_directory(\n",
    "    VAL_DIR,\n",
    "    target_size=(224, 224),\n",
    "    batch_size=batch_size,\n",
    "    class_mode='binary')\n",
    "test_generator = test_datagen.flow_from_directory(\n",
    "    TEST_DIR,\n",
    "    target_size=(224, 224),\n",
    "    batch_size=batch_size,\n",
    "    class_mode='binary')"
   ]
  },
  {
   "cell_type": "markdown",
   "id": "cb054fea",
   "metadata": {},
   "source": [
    "## Define the CNN Model"
   ]
  },
  {
   "cell_type": "code",
   "execution_count": 13,
   "id": "3c9a5cbb",
   "metadata": {},
   "outputs": [
    {
     "name": "stdout",
     "output_type": "stream",
     "text": [
      "Downloading data from https://storage.googleapis.com/tensorflow/keras-applications/vgg16/vgg16_weights_tf_dim_ordering_tf_kernels_notop.h5\n",
      "58892288/58889256 [==============================] - 9s 0us/step\n",
      "Downloading data from https://storage.googleapis.com/tensorflow/keras-applications/resnet/resnet50_weights_tf_dim_ordering_tf_kernels.h5\n",
      "102973440/102967424 [==============================] - 15s 0us/step\n",
      "Downloading data from https://storage.googleapis.com/tensorflow/keras-applications/inception_v3/inception_v3_weights_tf_dim_ordering_tf_kernels_notop.h5\n",
      "87916544/87910968 [==============================] - 13s 0us/step\n"
     ]
    }
   ],
   "source": [
    "## Loading the model\n",
    "base_model = VGG16(\n",
    "    weights='imagenet',\n",
    "    include_top=False,\n",
    "    input_shape=IMG_SIZE + (3,)\n",
    ")\n",
    "\n",
    "benchmark_1 = ResNet50(\n",
    "    include_top=True,\n",
    "    weights=\"imagenet\",\n",
    "    input_shape=IMG_SIZE + (3,)\n",
    ")\n",
    "\n",
    "benchmark_2 = InceptionV3(\n",
    "    include_top=False,\n",
    "    weights=\"imagenet\",\n",
    "    input_shape=IMG_SIZE + (3,)\n",
    ")"
   ]
  },
  {
   "cell_type": "code",
   "execution_count": 22,
   "id": "ec741b55",
   "metadata": {},
   "outputs": [
    {
     "name": "stdout",
     "output_type": "stream",
     "text": [
      "Model: \"sequential_1\"\n",
      "_________________________________________________________________\n",
      "Layer (type)                 Output Shape              Param #   \n",
      "=================================================================\n",
      "vgg16 (Functional)           (None, 7, 7, 512)         14714688  \n",
      "_________________________________________________________________\n",
      "flatten_1 (Flatten)          (None, 25088)             0         \n",
      "_________________________________________________________________\n",
      "dropout_1 (Dropout)          (None, 25088)             0         \n",
      "_________________________________________________________________\n",
      "dense_1 (Dense)              (None, 1)                 25089     \n",
      "=================================================================\n",
      "Total params: 14,739,777\n",
      "Trainable params: 25,089\n",
      "Non-trainable params: 14,714,688\n",
      "_________________________________________________________________\n"
     ]
    }
   ],
   "source": [
    "NUM_CLASSES = 1\n",
    "\n",
    "\n",
    "model = Sequential()\n",
    "\n",
    "\n",
    "\n",
    "model.add(base_model)\n",
    "# model.add(benchmark_1)\n",
    "# model.add(benchmark_2)\n",
    "\n",
    "\n",
    "\n",
    "\n",
    "model.add(layers.Flatten())\n",
    "model.add(layers.Dropout(0.5))\n",
    "model.add(layers.Dense(NUM_CLASSES, activation='sigmoid'))\n",
    "\n",
    "model.layers[0].trainable = False\n",
    "\n",
    "model.compile(\n",
    "    loss='binary_crossentropy',\n",
    "    optimizer=RMSprop(lr=1e-4),\n",
    "    metrics=['accuracy']\n",
    ")\n",
    "\n",
    "model.summary()"
   ]
  },
  {
   "cell_type": "code",
   "execution_count": null,
   "id": "66f5c5e3",
   "metadata": {},
   "outputs": [
    {
     "name": "stdout",
     "output_type": "stream",
     "text": [
      "Epoch 1/30\n",
      "4/4 [==============================] - 16s 4s/step - loss: 10.8407 - accuracy: 0.3806 - val_loss: 108.6589 - val_accuracy: 0.6200\n",
      "Epoch 2/30\n",
      "4/4 [==============================] - 16s 4s/step - loss: 10.8001 - accuracy: 0.5518 - val_loss: 58.3006 - val_accuracy: 0.5800\n",
      "Epoch 3/30\n",
      "4/4 [==============================] - 17s 4s/step - loss: 5.0420 - accuracy: 0.6269 - val_loss: 21.8366 - val_accuracy: 0.7800\n",
      "Epoch 4/30\n",
      "4/4 [==============================] - 20s 5s/step - loss: 3.3833 - accuracy: 0.7339 - val_loss: 7.1319 - val_accuracy: 0.9000\n",
      "Epoch 5/30\n",
      "4/4 [==============================] - 20s 5s/step - loss: 3.9203 - accuracy: 0.6734 - val_loss: 9.0113 - val_accuracy: 0.8800\n",
      "Epoch 6/30\n",
      "4/4 [==============================] - 21s 5s/step - loss: 1.6423 - accuracy: 0.7864 - val_loss: 83.4299 - val_accuracy: 0.5200\n",
      "Epoch 7/30\n",
      "4/4 [==============================] - 20s 5s/step - loss: 4.6075 - accuracy: 0.6131 - val_loss: 13.3122 - val_accuracy: 0.8800\n",
      "Epoch 8/30\n",
      "4/4 [==============================] - 20s 5s/step - loss: 2.6158 - accuracy: 0.7279 - val_loss: 54.7741 - val_accuracy: 0.7200\n",
      "Epoch 9/30\n",
      "4/4 [==============================] - 20s 5s/step - loss: 5.3713 - accuracy: 0.7123 - val_loss: 15.4934 - val_accuracy: 0.8800\n",
      "Epoch 10/30\n",
      "4/4 [==============================] - 20s 5s/step - loss: 0.6481 - accuracy: 0.8665 - val_loss: 46.1187 - val_accuracy: 0.6800\n",
      "Epoch 11/30\n",
      "4/4 [==============================] - 20s 5s/step - loss: 4.4193 - accuracy: 0.6340 - val_loss: 13.8803 - val_accuracy: 0.8400\n",
      "Epoch 12/30\n",
      "4/4 [==============================] - 20s 5s/step - loss: 2.3714 - accuracy: 0.7699 - val_loss: 91.1881 - val_accuracy: 0.6600\n",
      "Epoch 13/30\n",
      "4/4 [==============================] - 20s 5s/step - loss: 6.7134 - accuracy: 0.7126 - val_loss: 28.9412 - val_accuracy: 0.8400\n",
      "Epoch 14/30\n",
      "4/4 [==============================] - 20s 6s/step - loss: 5.2882 - accuracy: 0.5861 - val_loss: 32.1973 - val_accuracy: 0.8000\n",
      "Epoch 15/30\n",
      "4/4 [==============================] - 20s 5s/step - loss: 1.6778 - accuracy: 0.7876 - val_loss: 26.9885 - val_accuracy: 0.8400\n",
      "Epoch 16/30\n",
      "4/4 [==============================] - 20s 6s/step - loss: 1.8106 - accuracy: 0.8122 - val_loss: 29.4068 - val_accuracy: 0.8200\n",
      "Epoch 17/30\n",
      "4/4 [==============================] - 20s 5s/step - loss: 6.3326 - accuracy: 0.6381 - val_loss: 13.7996 - val_accuracy: 0.9200\n",
      "Epoch 18/30\n",
      "4/4 [==============================] - 20s 5s/step - loss: 0.8602 - accuracy: 0.8624 - val_loss: 11.8529 - val_accuracy: 0.9200\n",
      "Epoch 19/30\n",
      "4/4 [==============================] - 20s 6s/step - loss: 1.8767 - accuracy: 0.7983 - val_loss: 19.1686 - val_accuracy: 0.8600\n",
      "Epoch 20/30\n",
      "4/4 [==============================] - 20s 5s/step - loss: 2.1409 - accuracy: 0.7727 - val_loss: 12.7163 - val_accuracy: 0.9200\n",
      "Epoch 21/30\n",
      "4/4 [==============================] - 20s 5s/step - loss: 0.5973 - accuracy: 0.9181 - val_loss: 30.5243 - val_accuracy: 0.7800\n",
      "Epoch 22/30\n",
      "4/4 [==============================] - 20s 5s/step - loss: 2.9772 - accuracy: 0.7524 - val_loss: 13.7507 - val_accuracy: 0.9000\n",
      "Epoch 23/30\n",
      "4/4 [==============================] - 20s 5s/step - loss: 0.6826 - accuracy: 0.8886 - val_loss: 25.9677 - val_accuracy: 0.8400\n",
      "Epoch 24/30\n",
      "4/4 [==============================] - 20s 6s/step - loss: 1.1285 - accuracy: 0.8925 - val_loss: 12.5894 - val_accuracy: 0.9000\n",
      "Epoch 25/30\n",
      "4/4 [==============================] - 20s 5s/step - loss: 1.5478 - accuracy: 0.8379 - val_loss: 87.7699 - val_accuracy: 0.6600\n",
      "Epoch 26/30\n",
      "4/4 [==============================] - 20s 5s/step - loss: 7.1775 - accuracy: 0.6904 - val_loss: 4.3731 - val_accuracy: 0.9600\n",
      "Epoch 27/30\n",
      "4/4 [==============================] - 20s 6s/step - loss: 0.6761 - accuracy: 0.8792 - val_loss: 21.2454 - val_accuracy: 0.9000\n",
      "Epoch 28/30\n",
      "4/4 [==============================] - 20s 6s/step - loss: 0.6241 - accuracy: 0.8983 - val_loss: 57.2768 - val_accuracy: 0.7800\n",
      "Epoch 29/30\n",
      "3/4 [=====================>........] - ETA: 3s - loss: 6.3764 - accuracy: 0.6138"
     ]
    }
   ],
   "source": [
    "# history = model.fit_generator(\n",
    "#     train_generator,\n",
    "#     steps_per_epoch=193 // batch_size,\n",
    "#     epochs=epochs,\n",
    "#     validation_data=validation_generator,\n",
    "#     verbose = 1\n",
    "# )\n",
    "\n",
    "history = model.fit_generator(\n",
    "    train_generator,\n",
    "    epochs=epochs,\n",
    "    validation_data=validation_generator,\n",
    "    verbose = 1\n",
    ")"
   ]
  },
  {
   "cell_type": "code",
   "execution_count": 16,
   "id": "9a2331d4",
   "metadata": {},
   "outputs": [],
   "source": [
    "history_dict = history.history\n"
   ]
  },
  {
   "cell_type": "markdown",
   "id": "26e0eb11",
   "metadata": {},
   "source": [
    "### Plotting accuracy loss"
   ]
  },
  {
   "cell_type": "code",
   "execution_count": 18,
   "id": "2548ebb3",
   "metadata": {},
   "outputs": [],
   "source": [
    "## Plotting Accuracy loss\n",
    "acc = history.history['accuracy']\n",
    "val_acc = history.history['val_accuracy']\n",
    "loss = history.history['loss']\n",
    "val_loss = history.history['val_loss']\n",
    "epochs_range = range(1, len(history.epoch) + 1)"
   ]
  },
  {
   "cell_type": "code",
   "execution_count": 19,
   "id": "a0fe4d0c",
   "metadata": {},
   "outputs": [
    {
     "data": {
      "image/png": "[encoded data removed]",
      "text/plain": [
       "<Figure size 1080x360 with 2 Axes>"
      ]
     },
     "metadata": {
      "needs_background": "light"
     },
     "output_type": "display_data"
    }
   ],
   "source": [
    "plt.figure(figsize=(15,5))\n",
    "\n",
    "plt.subplot(1, 2, 1)\n",
    "plt.plot(epochs_range, acc, label='Train Set')\n",
    "plt.plot(epochs_range, val_acc, label='Val Set')\n",
    "plt.legend(loc=\"best\")\n",
    "plt.xlabel('Epochs')\n",
    "plt.ylabel('Accuracy')\n",
    "plt.title('Model Accuracy')\n",
    "\n",
    "plt.subplot(1, 2, 2)\n",
    "plt.plot(epochs_range, loss, label='Train Set')\n",
    "plt.plot(epochs_range, val_loss, label='Val Set')\n",
    "plt.legend(loc=\"best\")\n",
    "plt.xlabel('Epochs')\n",
    "plt.ylabel('Loss')\n",
    "plt.title('Model Loss')\n",
    "\n",
    "plt.tight_layout()\n",
    "plt.show()"
   ]
  },
  {
   "cell_type": "markdown",
   "id": "a43e5b37",
   "metadata": {},
   "source": [
    "## Validate on val set"
   ]
  },
  {
   "cell_type": "code",
   "execution_count": 101,
   "id": "7205c830",
   "metadata": {},
   "outputs": [],
   "source": [
    "labels = {0: 'NO', 1: 'YES'}"
   ]
  },
  {
   "cell_type": "code",
   "execution_count": 102,
   "id": "eb4c8cf5",
   "metadata": {},
   "outputs": [
    {
     "data": {
      "image/png": "[encoded data removed]",
      "text/plain": [
       "<Figure size 432x432 with 2 Axes>"
      ]
     },
     "metadata": {
      "needs_background": "light"
     },
     "output_type": "display_data"
    },
    {
     "name": "stdout",
     "output_type": "stream",
     "text": [
      "[0 0 0 0 0 1 1 1 1 1]\n",
      "[[1.]\n",
      " [1.]\n",
      " [0.]\n",
      " [0.]\n",
      " [1.]\n",
      " [0.]\n",
      " [0.]\n",
      " [1.]\n",
      " [1.]\n",
      " [0.]]\n",
      "[1, 1, 0, 0, 1, 0, 0, 1, 1, 0]\n"
     ]
    }
   ],
   "source": [
    "\n",
    "predictions = model.predict(test_generator)\n",
    "y_pred = [1 if x>0.5 else 0 for x in predictions]\n",
    "\n",
    "# y_pred = np.argmax(predictions, axis=1)\n",
    "\n",
    "confusion_mtx = confusion_matrix(test_generator.classes, y_pred)\n",
    "cm = plot_confusion_matrix(confusion_mtx, classes = list(labels.items()), normalize=False)\n",
    "print(test_generator.classes)\n",
    "print(predictions)\n",
    "print(y_pred)"
   ]
  },
  {
   "cell_type": "code",
   "execution_count": 103,
   "id": "235afbc4",
   "metadata": {},
   "outputs": [
    {
     "data": {
      "image/png": "[encoded data removed]",
      "text/plain": [
       "<Figure size 432x432 with 2 Axes>"
      ]
     },
     "metadata": {
      "needs_background": "light"
     },
     "output_type": "display_data"
    },
    {
     "name": "stdout",
     "output_type": "stream",
     "text": [
      "[0 0 0 0 0 0 0 0 0 0 0 0 0 0 0 0 0 0 0 1 1 1 1 1 1 1 1 1 1 1 1 1 1 1 1 1 1\n",
      " 1 1 1 1 1 1 1 1 1 1 1 1 1]\n",
      "[[0.0000000e+00]\n",
      " [0.0000000e+00]\n",
      " [1.5122158e-19]\n",
      " [1.0000000e+00]\n",
      " [0.0000000e+00]\n",
      " [8.8595385e-17]\n",
      " [1.0000000e+00]\n",
      " [0.0000000e+00]\n",
      " [1.0000000e+00]\n",
      " [1.0000000e+00]\n",
      " [1.0000000e+00]\n",
      " [1.0000000e+00]\n",
      " [1.0000000e+00]\n",
      " [1.0000000e+00]\n",
      " [1.0000000e+00]\n",
      " [0.0000000e+00]\n",
      " [1.0000000e+00]\n",
      " [1.0000000e+00]\n",
      " [1.0000000e+00]\n",
      " [1.0000000e+00]\n",
      " [1.0000000e+00]\n",
      " [2.5511923e-24]\n",
      " [1.0000000e+00]\n",
      " [1.0000000e+00]\n",
      " [0.0000000e+00]\n",
      " [0.0000000e+00]\n",
      " [1.0000000e+00]\n",
      " [1.0000000e+00]\n",
      " [0.0000000e+00]\n",
      " [1.0000000e+00]\n",
      " [0.0000000e+00]\n",
      " [0.0000000e+00]\n",
      " [1.0000000e+00]\n",
      " [1.0000000e+00]\n",
      " [5.8497689e-32]\n",
      " [1.0000000e+00]\n",
      " [1.0000000e+00]\n",
      " [0.0000000e+00]\n",
      " [1.0000000e+00]\n",
      " [1.0000000e+00]\n",
      " [0.0000000e+00]\n",
      " [1.0000000e+00]\n",
      " [0.0000000e+00]\n",
      " [1.0000000e+00]\n",
      " [1.0000000e+00]\n",
      " [7.8117090e-08]\n",
      " [0.0000000e+00]\n",
      " [1.0000000e+00]\n",
      " [1.0000000e+00]\n",
      " [1.0000000e+00]]\n",
      "[0, 0, 0, 1, 0, 0, 1, 0, 1, 1, 1, 1, 1, 1, 1, 0, 1, 1, 1, 1, 1, 0, 1, 1, 0, 0, 1, 1, 0, 1, 0, 0, 1, 1, 0, 1, 1, 0, 1, 1, 0, 1, 0, 1, 1, 0, 0, 1, 1, 1]\n"
     ]
    }
   ],
   "source": [
    "\n",
    "predictions = model.predict(validation_generator)\n",
    "y_pred = [1 if x>0.5 else 0 for x in predictions]\n",
    "\n",
    "# y_pred = np.argmax(predictions, axis=1)\n",
    "\n",
    "confusion_mtx = confusion_matrix(validation_generator.classes, y_pred)\n",
    "cm = plot_confusion_matrix(confusion_mtx, classes = list(labels.items()), normalize=False)\n",
    "print(validation_generator.classes)\n",
    "print(predictions)\n",
    "print(y_pred)"
   ]
  },
  {
   "cell_type": "code",
   "execution_count": 21,
   "id": "c17b14f2",
   "metadata": {},
   "outputs": [
    {
     "name": "stdout",
     "output_type": "stream",
     "text": [
      "[('brand', 'Ford'), ('model', 'Mustang'), ('year', 1964)]\n"
     ]
    }
   ],
   "source": [
    "car = {\n",
    "  \"brand\": \"Ford\",\n",
    "  \"model\": \"Mustang\",\n",
    "  \"year\": 1964\n",
    "}\n",
    "\n",
    "x = car.items()\n",
    "\n",
    "print(list(x))\n"
   ]
  },
  {
   "cell_type": "code",
   "execution_count": 45,
   "id": "f77aef9c",
   "metadata": {},
   "outputs": [
    {
     "data": {
      "text/plain": [
       "array([0, 0, 0, 0, 0, 1, 1, 1, 1, 1], dtype=int32)"
      ]
     },
     "execution_count": 45,
     "metadata": {},
     "output_type": "execute_result"
    }
   ],
   "source": [
    "test_generator.classes"
   ]
  },
  {
   "cell_type": "code",
   "execution_count": 46,
   "id": "7bfde49a",
   "metadata": {},
   "outputs": [
    {
     "data": {
      "text/plain": [
       "[1, 0, 0, 1, 0, 1, 1, 1, 0, 0]"
      ]
     },
     "execution_count": 46,
     "metadata": {},
     "output_type": "execute_result"
    }
   ],
   "source": [
    "predictions"
   ]
  },
  {
   "cell_type": "code",
   "execution_count": null,
   "id": "51d9abb9",
   "metadata": {},
   "outputs": [],
   "source": []
  }
 ],
 "metadata": {
  "kernelspec": {
   "display_name": "Python 3",
   "language": "python",
   "name": "python3"
  },
  "language_info": {
   "codemirror_mode": {
    "name": "ipython",
    "version": 3
   },
   "file_extension": ".py",
   "mimetype": "text/x-python",
   "name": "python",
   "nbconvert_exporter": "python",
   "pygments_lexer": "ipython3",
   "version": "3.8.5"
  }
 },
 "nbformat": 4,
 "nbformat_minor": 5
}
