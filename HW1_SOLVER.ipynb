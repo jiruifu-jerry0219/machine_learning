{
 "cells": [
  {
   "cell_type": "code",
   "execution_count": 119,
   "metadata": {},
   "outputs": [],
   "source": [
    "import pandas as pd\n",
    "import numpy as np\n",
    "import operator\n",
    "import matplotlib.pyplot as plt"
   ]
  },
  {
   "cell_type": "markdown",
   "metadata": {},
   "source": [
    "## Question - 1\n",
    "### The following codes are for question - 1"
   ]
  },
  {
   "cell_type": "code",
   "execution_count": 120,
   "metadata": {},
   "outputs": [
    {
     "name": "stdout",
     "output_type": "stream",
     "text": [
      "The number of available features are:  12\n",
      "The available features are:  Index(['PassengerId', 'Survived', 'Pclass', 'Name', 'Sex', 'Age', 'SibSp',\n",
      "       'Parch', 'Ticket', 'Fare', 'Cabin', 'Embarked'],\n",
      "      dtype='object')\n"
     ]
    }
   ],
   "source": [
    "\"\"\"Read the csv file using panda\"\"\"\n",
    "train_df = pd.read_csv('train.csv')\n",
    "test_df = pd.read_csv('test.csv')\n",
    "combine = [train_df, test_df]\n",
    "\n",
    "\"\"\"For the question 1, the number of features available are the number of column,\n",
    "The following codes are used to answer the question 1\"\"\"\n",
    "\n",
    "print(\"The number of available features are: \",len(train_df.axes[1]))\n",
    "print(\"The available features are: \", train_df.axes[1])\n",
    "\n"
   ]
  },
  {
   "cell_type": "markdown",
   "metadata": {},
   "source": [
    "## For Q - 7: Calculate the property of numerical features\n",
    "### Acquire the information of dataset to observe the number of elements in each column"
   ]
  },
  {
   "cell_type": "code",
   "execution_count": 121,
   "metadata": {},
   "outputs": [
    {
     "name": "stdout",
     "output_type": "stream",
     "text": [
      "<class 'pandas.core.frame.DataFrame'>\n",
      "RangeIndex: 891 entries, 0 to 890\n",
      "Data columns (total 12 columns):\n",
      " #   Column       Non-Null Count  Dtype  \n",
      "---  ------       --------------  -----  \n",
      " 0   PassengerId  891 non-null    int64  \n",
      " 1   Survived     891 non-null    int64  \n",
      " 2   Pclass       891 non-null    int64  \n",
      " 3   Name         891 non-null    object \n",
      " 4   Sex          891 non-null    object \n",
      " 5   Age          714 non-null    float64\n",
      " 6   SibSp        891 non-null    int64  \n",
      " 7   Parch        891 non-null    int64  \n",
      " 8   Ticket       891 non-null    object \n",
      " 9   Fare         891 non-null    float64\n",
      " 10  Cabin        204 non-null    object \n",
      " 11  Embarked     889 non-null    object \n",
      "dtypes: float64(2), int64(5), object(5)\n",
      "memory usage: 83.7+ KB\n",
      "None\n"
     ]
    }
   ],
   "source": [
    "\"\"\"Acquire the information of dataset to observe the number of elements in each column\"\"\"\n",
    "print(train_df.info())"
   ]
  },
  {
   "cell_type": "code",
   "execution_count": 122,
   "metadata": {},
   "outputs": [],
   "source": [
    "\n",
    "mean_age = train_df['Age'].mean()\n",
    "mean_fare = train_df['Fare'].mean()\n",
    "\n",
    "std_age = train_df['Age'].std()\n",
    "std_fare = train_df['Fare'].std()\n",
    "\n",
    "min_age = train_df['Age'].min()\n",
    "min_fare = train_df['Fare'].min()\n",
    "\n",
    "age_na = train_df['Age'].dropna()\n",
    "age_np = age_na.to_numpy()\n",
    "age25 = np.percentile(age_np, 25)\n",
    "age50 = np.percentile(age_np, 50)\n",
    "age75 = np.percentile(age_np, 75)\n",
    "\n",
    "fare_na = train_df['Fare'].dropna()\n",
    "fare_np = fare_na.to_numpy()\n",
    "fare25 = np.percentile(fare_np, 25)\n",
    "fare50 = np.percentile(fare_np, 50)\n",
    "fare75 = np.percentile(fare_np, 75)\n",
    "\n",
    "max_age = train_df['Age'].max()\n",
    "max_fare = train_df['Fare'].max()\n",
    "\n"
   ]
  },
  {
   "cell_type": "code",
   "execution_count": 123,
   "metadata": {},
   "outputs": [
    {
     "name": "stdout",
     "output_type": "stream",
     "text": [
      "The average of age is: 29.699 fare is: 32.204\n",
      "The standard division of age is: 14.526 fare is: 49.693\n",
      "The minimum age is: 0.42 fare is: 0.0\n",
      "The 25 percentail of age is: 20.125 50 percentail is: 28.0 75 percentail is: 38.0\n",
      "The 25 percentail of fare is: 7.9104 50 percentail is: 14.4542 75 percentail is: 31.0\n",
      "The maximum age is: 80.0 fare is:  512.3292\n"
     ]
    }
   ],
   "source": [
    "\"\"\"Print out the result\"\"\"\n",
    "print('The average of age is:','%.3f'% mean_age, 'fare is:','%.3f'%mean_fare)\n",
    "print('The standard division of age is:','%.3f'% std_age, 'fare is:','%.3f'% std_fare )\n",
    "print('The minimum age is:', min_age, 'fare is:',min_fare  )\n",
    "print('The 25 percentail of age is:', age25, '50 percentail is:', age50, '75 percentail is:', age75)\n",
    "print('The 25 percentail of fare is:', fare25, '50 percentail is:', fare50, '75 percentail is:', fare75)\n",
    "print('The maximum age is:', max_age, 'fare is: ', max_fare )\n"
   ]
  },
  {
   "cell_type": "markdown",
   "metadata": {},
   "source": [
    "## For Question - 8\n",
    "### The count of categories can be counted use the 'info()' method of Pandas\n",
    "### For the uniques,tops, and Freq.  i will use a for-loop to classify"
   ]
  },
  {
   "cell_type": "code",
   "execution_count": 124,
   "metadata": {},
   "outputs": [
    {
     "name": "stdout",
     "output_type": "stream",
     "text": [
      "<class 'pandas.core.frame.DataFrame'>\n",
      "RangeIndex: 891 entries, 0 to 890\n",
      "Data columns (total 12 columns):\n",
      " #   Column       Non-Null Count  Dtype  \n",
      "---  ------       --------------  -----  \n",
      " 0   PassengerId  891 non-null    int64  \n",
      " 1   Survived     891 non-null    int64  \n",
      " 2   Pclass       891 non-null    int64  \n",
      " 3   Name         891 non-null    object \n",
      " 4   Sex          891 non-null    object \n",
      " 5   Age          714 non-null    float64\n",
      " 6   SibSp        891 non-null    int64  \n",
      " 7   Parch        891 non-null    int64  \n",
      " 8   Ticket       891 non-null    object \n",
      " 9   Fare         891 non-null    float64\n",
      " 10  Cabin        204 non-null    object \n",
      " 11  Embarked     889 non-null    object \n",
      "dtypes: float64(2), int64(5), object(5)\n",
      "memory usage: 83.7+ KB\n",
      "None\n"
     ]
    }
   ],
   "source": [
    "\"\"\"For Question - 8 \"\"\"\n",
    "\"\"\"The count of categories can be counted use the 'info()' method of Pandas\"\"\"\n",
    "\"\"\"For the uniques, i will use a for-loop to classify\"\"\"\n",
    "\n",
    "\n",
    "print(train_df.info())\n",
    "\n",
    "#replace the NaN at the embarked column as a string 'nan' so that i can remove it in the next step\n",
    "embarked = train_df['Embarked'].fillna(value='nan')\n",
    "    "
   ]
  },
  {
   "cell_type": "code",
   "execution_count": 125,
   "metadata": {},
   "outputs": [],
   "source": [
    "category = {'Survived':[], 'Pclass':[], 'Sex':[], 'SibSp':[], 'Parch':[], 'Embarked':[] }"
   ]
  },
  {
   "cell_type": "code",
   "execution_count": 126,
   "metadata": {},
   "outputs": [],
   "source": [
    "for i in range(len(train_df['Survived'])):\n",
    "    if train_df['Survived'][i] in category['Survived']:\n",
    "        pass\n",
    "    else:\n",
    "        category['Survived'].append(train_df['Survived'][i])\n",
    "        \n",
    "    if train_df['Pclass'][i] in category['Pclass']:\n",
    "        pass\n",
    "    else:\n",
    "        category['Pclass'].append(train_df['Pclass'][i])\n",
    "    \n",
    "    if train_df['Sex'][i] in category['Sex']:\n",
    "        pass\n",
    "    else:\n",
    "        category['Sex'].append(train_df['Sex'][i])\n",
    "        \n",
    "    if train_df['SibSp'][i] in category['SibSp']:\n",
    "        pass\n",
    "    else:\n",
    "        category['SibSp'].append(train_df['SibSp'][i])\n",
    "\n",
    "    if train_df['Parch'][i] in category['Parch']:\n",
    "        pass\n",
    "    else:\n",
    "        category['Parch'].append(train_df['Parch'][i])\n",
    "        \n",
    "    if embarked[i] in category['Embarked']:\n",
    "        pass\n",
    "    else:\n",
    "        if embarked[i] != 'nan':\n",
    "            category['Embarked'].append(embarked[i])\n",
    "        else:\n",
    "            pass"
   ]
  },
  {
   "cell_type": "code",
   "execution_count": 127,
   "metadata": {},
   "outputs": [
    {
     "name": "stdout",
     "output_type": "stream",
     "text": [
      "{'Survived': [0, 1], 'Pclass': [3, 1, 2], 'Sex': ['male', 'female'], 'SibSp': [1, 0, 3, 4, 2, 5, 8], 'Parch': [0, 1, 2, 5, 3, 4, 6], 'Embarked': ['S', 'C', 'Q']}\n"
     ]
    }
   ],
   "source": [
    "\"\"\"Check the dictionary to read result\"\"\"\n",
    "print(category)"
   ]
  },
  {
   "cell_type": "code",
   "execution_count": 128,
   "metadata": {},
   "outputs": [
    {
     "name": "stdout",
     "output_type": "stream",
     "text": [
      "{'0': 549, '1': 342}\n",
      "The top is: ['0']\n"
     ]
    }
   ],
   "source": [
    "\"\"\"Using the above dictionary to count the top of survived\"\"\"\n",
    "n_0 = 0\n",
    "n_1 = 0\n",
    "top_survived = {\"0\":0, '1':0}\n",
    "for i in range(len(train_df['Survived'])):\n",
    "    if train_df['Survived'][i] == 0:\n",
    "        n_0 += 1\n",
    "    if train_df['Survived'][i] == 1:\n",
    "        n_1 += 1\n",
    "top_survived['0'] = n_0\n",
    "top_survived['1'] = n_1\n",
    "print(top_survived)\n",
    "m = max(top_survived.items(), key=operator.itemgetter(1))[1]\n",
    "print('The top is:',[k for k,v in top_survived.items() if v == m])\n"
   ]
  },
  {
   "cell_type": "code",
   "execution_count": 129,
   "metadata": {},
   "outputs": [
    {
     "name": "stdout",
     "output_type": "stream",
     "text": [
      "{'1': 216, '2': 184, '3': 491}\n",
      "The top is: ['3']\n"
     ]
    }
   ],
   "source": [
    "n_1 = 0\n",
    "n_2 = 0\n",
    "n_3 = 0\n",
    "top_Pclass = {\"1\":0, '2':0, '3':0}\n",
    "for i in range(len(train_df['Pclass'])):\n",
    "    if train_df['Pclass'][i] == 1:\n",
    "        n_1 += 1\n",
    "    if train_df['Pclass'][i] == 2:\n",
    "        n_2 += 1\n",
    "    if train_df['Pclass'][i] == 3:\n",
    "        n_3 += 1\n",
    "        \n",
    "top_Pclass['1'] = n_1\n",
    "top_Pclass['2'] = n_2\n",
    "top_Pclass['3'] = n_3\n",
    "m = max(top_Pclass.items(), key=operator.itemgetter(1))[1]\n",
    "print(top_Pclass)\n",
    "print('The top is:',[k for k,v in top_Pclass.items() if v == m])"
   ]
  },
  {
   "cell_type": "code",
   "execution_count": 130,
   "metadata": {},
   "outputs": [
    {
     "name": "stdout",
     "output_type": "stream",
     "text": [
      "{'famle': 314, 'male': 577}\n",
      "The top is: ['male']\n"
     ]
    }
   ],
   "source": [
    "n_f = 0\n",
    "n_m = 0\n",
    "top_sex = {\"famle\":n_f, 'male':n_m}\n",
    "for i in range(len(train_df['Sex'])):\n",
    "    if train_df['Sex'][i] == 'male':\n",
    "        n_m += 1\n",
    "    if train_df['Sex'][i] == 'female':\n",
    "        n_f += 1\n",
    "        \n",
    "top_sex['famle'] = n_f\n",
    "top_sex['male'] = n_m\n",
    "\n",
    "m = max(top_sex.items(), key=operator.itemgetter(1))[1]\n",
    "print(top_sex)\n",
    "print('The top is:', [k for k,v in top_sex.items() if v == m])"
   ]
  },
  {
   "cell_type": "code",
   "execution_count": 131,
   "metadata": {},
   "outputs": [
    {
     "name": "stdout",
     "output_type": "stream",
     "text": [
      "{'0': 608, '1': 209, '2': 28, '3': 16, '4': 18, '5': 5, '8': 0, '9': 7}\n",
      "The top is: ['0']\n"
     ]
    }
   ],
   "source": [
    "n_0 = 0\n",
    "n_1 = 0\n",
    "n_2 = 0\n",
    "n_3 = 0\n",
    "n_4 = 0 \n",
    "n_5 = 0\n",
    "n_8 = 0\n",
    "top_SibSp = {'0':n_0, '1':n_1, '2':n_2, '3':n_3, '4':n_4, '5':n_5, '8':n_8}\n",
    "for i in range(len(train_df['SibSp'])):\n",
    "    if train_df['SibSp'][i] == 0:\n",
    "        n_0 += 1\n",
    "        \n",
    "    if train_df['SibSp'][i] == 1:\n",
    "        n_1 += 1\n",
    "        \n",
    "    if train_df['SibSp'][i] == 2:\n",
    "        n_2 += 1\n",
    "        \n",
    "    if train_df['SibSp'][i] == 3:\n",
    "        n_3 += 1\n",
    "    \n",
    "    if train_df['SibSp'][i] == 4:\n",
    "        n_4 += 1\n",
    "        \n",
    "    if train_df['SibSp'][i] == 5:\n",
    "        n_5 += 1\n",
    "        \n",
    "    if train_df['SibSp'][i] == 8:\n",
    "        n_8 += 1\n",
    "        \n",
    "top_SibSp['0'] = n_0\n",
    "top_SibSp['1'] = n_1\n",
    "top_SibSp['2'] = n_2\n",
    "top_SibSp['3'] = n_3\n",
    "top_SibSp['4'] = n_4\n",
    "top_SibSp['5'] = n_5\n",
    "top_SibSp['9'] = n_8\n",
    "\n",
    "m = max(top_SibSp.items(), key=operator.itemgetter(1))[1]\n",
    "print(top_SibSp)\n",
    "print('The top is:', [k for k,v in top_SibSp.items() if v == m])"
   ]
  },
  {
   "cell_type": "code",
   "execution_count": 132,
   "metadata": {},
   "outputs": [
    {
     "name": "stdout",
     "output_type": "stream",
     "text": [
      "{'0': 678, '1': 118, '2': 80, '3': 5, '4': 4, '5': 5, '6': 5}\n",
      "The top is: ['0']\n"
     ]
    }
   ],
   "source": [
    "n_0 = 0\n",
    "n_1 = 0\n",
    "n_2 = 0\n",
    "n_3 = 0\n",
    "n_4 = 0 \n",
    "n_5 = 0\n",
    "n_6 = 0\n",
    "top_Parch = {'0':n_0, '1':n_1, '2':n_2, '3':n_3, '4':n_4, '5':n_5, '6':n_6}\n",
    "\n",
    "for i in range(len(train_df['Parch'])):\n",
    "    if train_df['Parch'][i] == 0:\n",
    "        n_0 += 1\n",
    "    if train_df['Parch'][i] == 1:\n",
    "        n_1 += 1\n",
    "    if train_df['Parch'][i] == 2:\n",
    "        n_2 += 1\n",
    "    if train_df['Parch'][i] == 3:\n",
    "        n_3 += 1\n",
    "    if train_df['Parch'][i] == 4:\n",
    "        n_4 += 1\n",
    "    if train_df['Parch'][i] == 5:\n",
    "        n_5 += 1\n",
    "    if train_df['Parch'][i] == 6:\n",
    "        n_6 += 1\n",
    "        \n",
    "top_Parch['0'] = n_0\n",
    "top_Parch['1'] = n_1\n",
    "top_Parch['2'] = n_2\n",
    "top_Parch['3'] = n_3\n",
    "top_Parch['4'] = n_4\n",
    "top_Parch['5'] = n_5\n",
    "top_Parch['6'] = n_5\n",
    "\n",
    "m = max(top_Parch.items(), key=operator.itemgetter(1))[1]\n",
    "print(top_Parch)\n",
    "print('The top is:', [k for k,v in top_Parch.items() if v == m])"
   ]
  },
  {
   "cell_type": "code",
   "execution_count": 133,
   "metadata": {},
   "outputs": [
    {
     "name": "stdout",
     "output_type": "stream",
     "text": [
      "{'S': 644, 'C': 168, 'Q': 77}\n",
      "The top is: ['S']\n"
     ]
    }
   ],
   "source": [
    "n_s = 0\n",
    "n_c = 0\n",
    "n_q = 0\n",
    "top_Embarked = {'S':0, 'C':0, 'Q':0}\n",
    "\n",
    "for i in range(len(embarked)):\n",
    "    if embarked[i] == 'S':\n",
    "        n_s += 1\n",
    "   \n",
    "    if embarked[i] == 'C':\n",
    "        n_c += 1\n",
    "        \n",
    "    if embarked[i] == 'Q':\n",
    "        n_q += 1\n",
    "        \n",
    "top_Embarked['S'] = n_s\n",
    "top_Embarked['C'] = n_c\n",
    "top_Embarked['Q'] = n_q\n",
    "\n",
    "m = max(top_Embarked.items(), key=operator.itemgetter(1))[1]\n",
    "print(top_Embarked)\n",
    "print('The top is:', [k for k,v in top_Embarked.items() if v == m])  "
   ]
  },
  {
   "cell_type": "markdown",
   "metadata": {},
   "source": [
    "## Q-9, for the correlation between two features, the corr() method can be used\"\"\"\n",
    "### correlation betwee survived and pclass"
   ]
  },
  {
   "cell_type": "code",
   "execution_count": 134,
   "metadata": {},
   "outputs": [
    {
     "name": "stdout",
     "output_type": "stream",
     "text": [
      "-0.33848103596101475\n",
      "Pclass doesn't have significant correlatio with survived\n"
     ]
    }
   ],
   "source": [
    "corr_sp = train_df['Survived'].corr(train_df['Pclass'])\n",
    "corr_ps = train_df['Pclass'].corr(train_df['Survived'])\n",
    "\n",
    "print(corr_sp)\n",
    "if corr_ps > 0.5:\n",
    "    print('Pclass has significant correlation with survived')\n",
    "else:\n",
    "    print(\"Pclass doesn't have significant correlatio with survived\")\n"
   ]
  },
  {
   "cell_type": "markdown",
   "metadata": {},
   "source": [
    "## Question - 10\n",
    "### The following codes use a for - loop to calculate the probability for women to survive"
   ]
  },
  {
   "cell_type": "code",
   "execution_count": 135,
   "metadata": {},
   "outputs": [
    {
     "name": "stdout",
     "output_type": "stream",
     "text": [
      "<class 'pandas.core.frame.DataFrame'>\n",
      "RangeIndex: 891 entries, 0 to 890\n",
      "Data columns (total 12 columns):\n",
      " #   Column       Non-Null Count  Dtype  \n",
      "---  ------       --------------  -----  \n",
      " 0   PassengerId  891 non-null    int64  \n",
      " 1   Survived     891 non-null    int64  \n",
      " 2   Pclass       891 non-null    int64  \n",
      " 3   Name         891 non-null    object \n",
      " 4   Sex          891 non-null    object \n",
      " 5   Age          714 non-null    float64\n",
      " 6   SibSp        891 non-null    int64  \n",
      " 7   Parch        891 non-null    int64  \n",
      " 8   Ticket       891 non-null    object \n",
      " 9   Fare         891 non-null    float64\n",
      " 10  Cabin        204 non-null    object \n",
      " 11  Embarked     889 non-null    object \n",
      "dtypes: float64(2), int64(5), object(5)\n",
      "memory usage: 83.7+ KB\n",
      "None\n"
     ]
    }
   ],
   "source": [
    "print(train_df.info())"
   ]
  },
  {
   "cell_type": "code",
   "execution_count": 136,
   "metadata": {},
   "outputs": [
    {
     "name": "stdout",
     "output_type": "stream",
     "text": [
      "The probability for women to live is: 0.742\n"
     ]
    }
   ],
   "source": [
    "#create two empty lists\n",
    "w_d = 0\n",
    "w_l = 0\n",
    "w = 0\n",
    "for i in range(len(train_df['Sex'])):\n",
    "    if train_df['Sex'][i] == 'female':\n",
    "        w += 1\n",
    "        if train_df['Survived'][i] == 1:\n",
    "            w_l += 1\n",
    "        elif train_df['Survived'][i] == 0:\n",
    "            w_d += 1\n",
    "\n",
    "print('The probability for women to live is:', '%.3f'% float(w_l / w))\n",
    "    "
   ]
  },
  {
   "cell_type": "markdown",
   "metadata": {},
   "source": [
    "## Question - 11"
   ]
  },
  {
   "cell_type": "code",
   "execution_count": 137,
   "metadata": {},
   "outputs": [
    {
     "name": "stdout",
     "output_type": "stream",
     "text": [
      "<class 'pandas.core.frame.DataFrame'>\n",
      "RangeIndex: 714 entries, 0 to 713\n",
      "Data columns (total 3 columns):\n",
      " #   Column    Non-Null Count  Dtype  \n",
      "---  ------    --------------  -----  \n",
      " 0   index     714 non-null    int64  \n",
      " 1   Survived  714 non-null    int64  \n",
      " 2   Age       714 non-null    float64\n",
      "dtypes: float64(1), int64(2)\n",
      "memory usage: 16.9 KB\n",
      "None\n"
     ]
    }
   ],
   "source": [
    "col_list = ['Survived', 'Age']\n",
    "new_train_df = pd.read_csv('train.csv', usecols=col_list)\n",
    "new_train_df = new_train_df.dropna(axis=0)\n",
    "new_train_df = new_train_df.reset_index()\n",
    "# print(new_train_df['Survived'][5])\n",
    "\n",
    "survive_1 = {'survived=1':[]}\n",
    "survive_0 = {'survived=0':[]}\n",
    "print(new_train_df.info())\n"
   ]
  },
  {
   "cell_type": "code",
   "execution_count": 138,
   "metadata": {},
   "outputs": [],
   "source": [
    "for i in range(len(new_train_df['index'])):\n",
    "    if new_train_df['Survived'][i] == 0:\n",
    "        survive_0['survived=0'].append(new_train_df['Age'][i])\n",
    "    if new_train_df['Survived'][i] == 1:\n",
    "        survive_1['survived=1'].append(new_train_df['Age'][i])"
   ]
  },
  {
   "cell_type": "code",
   "execution_count": 139,
   "metadata": {},
   "outputs": [],
   "source": [
    "# print(age_dict)\n",
    "data_1 = pd.DataFrame.from_dict(survive_1)\n",
    "data_0 = pd.DataFrame.from_dict(survive_0)"
   ]
  },
  {
   "cell_type": "code",
   "execution_count": 140,
   "metadata": {},
   "outputs": [
    {
     "data": {
      "text/plain": [
       "Text(0.5, 0, 'Age')"
      ]
     },
     "execution_count": 140,
     "metadata": {},
     "output_type": "execute_result"
    },
    {
     "data": {
      "image/png": "[encoded data removed]",
      "text/plain": [
       "<Figure size 432x288 with 1 Axes>"
      ]
     },
     "metadata": {
      "needs_background": "light"
     },
     "output_type": "display_data"
    },
    {
     "data": {
      "image/png": "[encoded data removed]",
      "text/plain": [
       "<Figure size 432x288 with 1 Axes>"
      ]
     },
     "metadata": {
      "needs_background": "light"
     },
     "output_type": "display_data"
    }
   ],
   "source": [
    "pd.DataFrame.hist(data_1)\n",
    "plt.ylabel('Frequency')\n",
    "plt.xlabel('Age')\n",
    "pd.DataFrame.hist(data_0)\n",
    "plt.ylabel('Frequency')\n",
    "plt.xlabel('Age')"
   ]
  },
  {
   "cell_type": "markdown",
   "metadata": {},
   "source": [
    "## Question - 12"
   ]
  },
  {
   "cell_type": "code",
   "execution_count": 102,
   "metadata": {},
   "outputs": [
    {
     "name": "stdout",
     "output_type": "stream",
     "text": [
      "<class 'pandas.core.frame.DataFrame'>\n",
      "RangeIndex: 891 entries, 0 to 890\n",
      "Data columns (total 12 columns):\n",
      " #   Column       Non-Null Count  Dtype  \n",
      "---  ------       --------------  -----  \n",
      " 0   PassengerId  891 non-null    int64  \n",
      " 1   Survived     891 non-null    int64  \n",
      " 2   Pclass       891 non-null    int64  \n",
      " 3   Name         891 non-null    object \n",
      " 4   Sex          891 non-null    object \n",
      " 5   Age          714 non-null    float64\n",
      " 6   SibSp        891 non-null    int64  \n",
      " 7   Parch        891 non-null    int64  \n",
      " 8   Ticket       891 non-null    object \n",
      " 9   Fare         891 non-null    float64\n",
      " 10  Cabin        204 non-null    object \n",
      " 11  Embarked     889 non-null    object \n",
      "dtypes: float64(2), int64(5), object(5)\n",
      "memory usage: 83.7+ KB\n",
      "None\n"
     ]
    }
   ],
   "source": [
    "train_df = pd.read_csv('train.csv')\n",
    "print(train_df.info())"
   ]
  },
  {
   "cell_type": "code",
   "execution_count": 103,
   "metadata": {},
   "outputs": [
    {
     "name": "stdout",
     "output_type": "stream",
     "text": [
      "<class 'pandas.core.frame.DataFrame'>\n",
      "RangeIndex: 714 entries, 0 to 713\n",
      "Data columns (total 4 columns):\n",
      " #   Column    Non-Null Count  Dtype  \n",
      "---  ------    --------------  -----  \n",
      " 0   index     714 non-null    int64  \n",
      " 1   Survived  714 non-null    int64  \n",
      " 2   Pclass    714 non-null    int64  \n",
      " 3   Age       714 non-null    float64\n",
      "dtypes: float64(1), int64(3)\n",
      "memory usage: 22.4 KB\n",
      "None\n"
     ]
    }
   ],
   "source": [
    "col_list = ['Survived', 'Age','Pclass']\n",
    "new_train_df = pd.read_csv('train.csv', usecols=col_list)\n",
    "new_train_df = new_train_df.dropna(axis=0)\n",
    "new_train_df = new_train_df.reset_index()\n",
    "print(new_train_df.info())"
   ]
  },
  {
   "cell_type": "markdown",
   "metadata": {},
   "source": [
    "### According to the histogram, there are six conditions\n",
    "\n",
    "#### Condition1: Pclass=1| Survived = 0\n",
    "#### Condition2: Pclass=1| Survived = 1\n",
    "#### Condition3: Pclass=2| Survived = 0\n",
    "#### Condition4: Pclass=2| Survived = 1\n",
    "#### Condition5: Pclass=3| Survived = 0\n",
    "#### Condition6: Pclass=3| Survived = 1"
   ]
  },
  {
   "cell_type": "code",
   "execution_count": 110,
   "metadata": {},
   "outputs": [],
   "source": [
    "#Create six dictionary\n",
    "P1S1 = {\"P1S1\":[]}\n",
    "P1S0 = {\"P1S0\":[]}\n",
    "P2S0 = {\"P2S0\":[]}\n",
    "P2S1 = {\"P2S1\":[]}\n",
    "P3S0 = {\"P3S0\":[]}\n",
    "P3S1 = {\"P3S1\":[]}"
   ]
  },
  {
   "cell_type": "code",
   "execution_count": 111,
   "metadata": {},
   "outputs": [
    {
     "name": "stdout",
     "output_type": "stream",
     "text": [
      "0      3\n",
      "1      1\n",
      "2      3\n",
      "3      1\n",
      "4      3\n",
      "      ..\n",
      "709    3\n",
      "710    2\n",
      "711    1\n",
      "712    1\n",
      "713    3\n",
      "Name: Pclass, Length: 714, dtype: int64\n"
     ]
    }
   ],
   "source": [
    "print(new_train_df['Pclass'])"
   ]
  },
  {
   "cell_type": "code",
   "execution_count": 112,
   "metadata": {},
   "outputs": [],
   "source": [
    "for i in range(len(new_train_df['index'])):\n",
    "    if new_train_df['Pclass'][i] == 1:\n",
    "        if new_train_df['Survived'][i] == 0:\n",
    "            P1S0[\"P1S0\"].append(new_train_df['Age'][i])\n",
    "        if new_train_df['Survived'][i] == 1:\n",
    "            P1S1[\"P1S1\"].append(new_train_df['Age'][i])\n",
    "    \n",
    "    if new_train_df['Pclass'][i] == 2:\n",
    "        if new_train_df['Survived'][i] == 0:\n",
    "            P2S0[\"P2S0\"].append(new_train_df['Age'][i])\n",
    "        if new_train_df['Survived'][i] == 1:\n",
    "            P2S1[\"P2S1\"].append(new_train_df['Age'][i])\n",
    "            \n",
    "    if new_train_df['Pclass'][i] == 3:\n",
    "        if new_train_df['Survived'][i] == 0:\n",
    "            P3S0[\"P3S0\"].append(new_train_df['Age'][i])\n",
    "        if new_train_df['Survived'][i] == 1:\n",
    "            P3S1[\"P3S1\"].append(new_train_df['Age'][i])\n",
    "        \n",
    "            "
   ]
  },
  {
   "cell_type": "code",
   "execution_count": 115,
   "metadata": {},
   "outputs": [],
   "source": [
    "data_1 = pd.DataFrame.from_dict(P1S1)\n",
    "data_2 = pd.DataFrame.from_dict(P1S0)\n",
    "data_3 = pd.DataFrame.from_dict(P2S0)\n",
    "data_4 = pd.DataFrame.from_dict(P2S1)\n",
    "data_5 = pd.DataFrame.from_dict(P3S0)\n",
    "data_6 = pd.DataFrame.from_dict(P3S1)"
   ]
  },
  {
   "cell_type": "code",
   "execution_count": 142,
   "metadata": {
    "scrolled": true
   },
   "outputs": [
    {
     "data": {
      "text/plain": [
       "array([[<AxesSubplot:title={'center':'P3S1'}>]], dtype=object)"
      ]
     },
     "execution_count": 142,
     "metadata": {},
     "output_type": "execute_result"
    },
    {
     "data": {
      "image/png": "[encoded data removed]",
      "text/plain": [
       "<Figure size 432x288 with 1 Axes>"
      ]
     },
     "metadata": {
      "needs_background": "light"
     },
     "output_type": "display_data"
    },
    {
     "data": {
      "image/png": "[encoded data removed]",
      "text/plain": [
       "<Figure size 432x288 with 1 Axes>"
      ]
     },
     "metadata": {
      "needs_background": "light"
     },
     "output_type": "display_data"
    },
    {
     "data": {
      "image/png": "[encoded data removed]",
      "text/plain": [
       "<Figure size 432x288 with 1 Axes>"
      ]
     },
     "metadata": {
      "needs_background": "light"
     },
     "output_type": "display_data"
    },
    {
     "data": {
      "image/png": "[encoded data removed]",
      "text/plain": [
       "<Figure size 432x288 with 1 Axes>"
      ]
     },
     "metadata": {
      "needs_background": "light"
     },
     "output_type": "display_data"
    },
    {
     "data": {
      "image/png": "[encoded data removed]",
      "text/plain": [
       "<Figure size 432x288 with 1 Axes>"
      ]
     },
     "metadata": {
      "needs_background": "light"
     },
     "output_type": "display_data"
    },
    {
     "data": {
      "image/png": "[encoded data removed]",
      "text/plain": [
       "<Figure size 432x288 with 1 Axes>"
      ]
     },
     "metadata": {
      "needs_background": "light"
     },
     "output_type": "display_data"
    }
   ],
   "source": [
    "pd.DataFrame.hist(data_1)\n",
    "pd.DataFrame.hist(data_2)\n",
    "pd.DataFrame.hist(data_3)\n",
    "pd.DataFrame.hist(data_4)\n",
    "pd.DataFrame.hist(data_5)\n",
    "pd.DataFrame.hist(data_6)"
   ]
  },
  {
   "cell_type": "markdown",
   "metadata": {},
   "source": [
    "## Question 13"
   ]
  },
  {
   "cell_type": "code",
   "execution_count": 168,
   "metadata": {},
   "outputs": [],
   "source": [
    "\"\"\"Read the csv file using panda\"\"\"\n",
    "train_df = pd.read_csv('train.csv')\n",
    "test_df = pd.read_csv('test.csv')\n",
    "combine = [train_df, test_df]"
   ]
  },
  {
   "cell_type": "code",
   "execution_count": 169,
   "metadata": {},
   "outputs": [],
   "source": [
    "new_train_df = train_df[['Fare','Embarked','Survived','Sex']].dropna()"
   ]
  },
  {
   "cell_type": "code",
   "execution_count": 172,
   "metadata": {},
   "outputs": [],
   "source": [
    "male_dead=new_train_df[np.logical_and(np.logical_and(new_train_df['Embarked']=='S',new_train_df['Survived']==0),new_train_df['Sex']=='male')].Fare\n",
    "female_dead=new_train_df[np.logical_and(np.logical_and(new_train_df['Embarked']=='S',new_train_df['Survived']==0),new_train_df['Sex']=='female')].Fare"
   ]
  },
  {
   "cell_type": "code",
   "execution_count": 173,
   "metadata": {},
   "outputs": [
    {
     "data": {
      "image/png": "[encoded data removed]",
      "text/plain": [
       "<Figure size 432x288 with 1 Axes>"
      ]
     },
     "metadata": {
      "needs_background": "light"
     },
     "output_type": "display_data"
    }
   ],
   "source": [
    "plt.bar([\"male\",\"female\"], [np.mean(male_dead),np.mean(female_dead)], color ='b', width = 0.4) \n",
    "plt.ylim([0,90])\n",
    "plt.ylabel('Fare')\n",
    "plt.title('Embarked=S|Survived=0')\n",
    "plt.show()"
   ]
  },
  {
   "cell_type": "code",
   "execution_count": 174,
   "metadata": {},
   "outputs": [],
   "source": [
    "male_survived=new_train_df[np.logical_and(np.logical_and(new_train_df['Embarked']=='S',new_train_df['Survived']==1),new_train_df['Sex']=='male')].Fare\n",
    "fmale_survived=new_train_df[np.logical_and(np.logical_and(new_train_df['Embarked']=='S',new_train_df['Survived']==1),new_train_df['Sex']=='female')].Fare"
   ]
  },
  {
   "cell_type": "code",
   "execution_count": 175,
   "metadata": {},
   "outputs": [
    {
     "data": {
      "image/png": "[encoded data removed]",
      "text/plain": [
       "<Figure size 432x288 with 1 Axes>"
      ]
     },
     "metadata": {
      "needs_background": "light"
     },
     "output_type": "display_data"
    }
   ],
   "source": [
    "plt.bar([\"male\",\"female\"], [np.mean(male_survived),np.mean(fmale_survived)], color ='orange', width = 0.4) \n",
    "plt.ylim([0,90])\n",
    "plt.ylabel('Fare')\n",
    "plt.title('Embarked=S|Survived=1')\n",
    "plt.show()"
   ]
  },
  {
   "cell_type": "code",
   "execution_count": 179,
   "metadata": {},
   "outputs": [],
   "source": [
    "EC_dead_male=new_train_df[np.logical_and(np.logical_and(new_train_df['Embarked']=='C',new_train_df['Survived']==0),new_train_df['Sex']=='male')].Fare\n",
    "EC_dead_fmale=new_train_df[np.logical_and(np.logical_and(new_train_df['Embarked']=='C',new_train_df['Survived']==0),new_train_df['Sex']=='female')].Fare\n",
    "\n"
   ]
  },
  {
   "cell_type": "code",
   "execution_count": 180,
   "metadata": {},
   "outputs": [
    {
     "data": {
      "image/png": "[encoded data removed]",
      "text/plain": [
       "<Figure size 432x288 with 1 Axes>"
      ]
     },
     "metadata": {
      "needs_background": "light"
     },
     "output_type": "display_data"
    }
   ],
   "source": [
    "plt.bar([\"male\",\"female\"], [np.mean(EC_dead_male),np.mean(EC_dead_fmale)], color ='b', width = 0.4) \n",
    "plt.ylim([0,90])\n",
    "plt.ylabel('Fare')\n",
    "plt.title('Embarked=C|Survived=0')\n",
    "plt.show()"
   ]
  },
  {
   "cell_type": "code",
   "execution_count": 181,
   "metadata": {},
   "outputs": [],
   "source": [
    "EC_Survival_male=new_train_df[np.logical_and(np.logical_and(new_train_df['Embarked']=='C',new_train_df['Survived']==1),new_train_df['Sex']=='male')].Fare\n",
    "EC_Survival_famle=new_train_df[np.logical_and(np.logical_and(new_train_df['Embarked']=='C',new_train_df['Survived']==1),new_train_df['Sex']=='female')].Fare\n",
    "\n"
   ]
  },
  {
   "cell_type": "code",
   "execution_count": 182,
   "metadata": {},
   "outputs": [
    {
     "data": {
      "image/png": "[encoded data removed]",
      "text/plain": [
       "<Figure size 432x288 with 1 Axes>"
      ]
     },
     "metadata": {
      "needs_background": "light"
     },
     "output_type": "display_data"
    }
   ],
   "source": [
    "plt.bar([\"male\",\"female\"], [np.mean(EC_Survival_male),np.mean(EC_Survival_famle)], color ='orange', width = 0.4) \n",
    "plt.ylim([0,90])\n",
    "plt.ylabel('Fare')\n",
    "plt.title('Embarked=C|Survived=1')\n",
    "plt.show()"
   ]
  },
  {
   "cell_type": "code",
   "execution_count": 183,
   "metadata": {},
   "outputs": [],
   "source": [
    "EQ_dead_male=new_train_df[np.logical_and(np.logical_and(new_train_df['Embarked']=='Q',new_train_df['Survived']==0),new_train_df['Sex']=='male')].Fare\n",
    "EQ_dead_female=new_train_df[np.logical_and(np.logical_and(new_train_df['Embarked']=='Q',new_train_df['Survived']==0),new_train_df['Sex']=='female')].Fare\n"
   ]
  },
  {
   "cell_type": "code",
   "execution_count": 184,
   "metadata": {},
   "outputs": [
    {
     "data": {
      "image/png": "[encoded data removed]",
      "text/plain": [
       "<Figure size 432x288 with 1 Axes>"
      ]
     },
     "metadata": {
      "needs_background": "light"
     },
     "output_type": "display_data"
    }
   ],
   "source": [
    "plt.bar([\"male\",\"female\"], [np.mean(EQ_dead_male),np.mean(EQ_dead_female)], color ='b', width = 0.4) \n",
    "plt.ylim([0,90])\n",
    "plt.ylabel('Fare')\n",
    "plt.title('Embarked=Q|Survived=0')\n",
    "plt.show()\n"
   ]
  },
  {
   "cell_type": "code",
   "execution_count": 185,
   "metadata": {},
   "outputs": [],
   "source": [
    "EQ_Surv_m=new_train_df[np.logical_and(np.logical_and(new_train_df['Embarked']=='Q',new_train_df['Survived']==1),new_train_df['Sex']=='male')].Fare\n",
    "EQ_Surv_f=new_train_df[np.logical_and(np.logical_and(new_train_df['Embarked']=='Q',new_train_df['Survived']==1),new_train_df['Sex']=='female')].Fare"
   ]
  },
  {
   "cell_type": "code",
   "execution_count": 186,
   "metadata": {},
   "outputs": [
    {
     "data": {
      "image/png": "[encoded data removed]",
      "text/plain": [
       "<Figure size 432x288 with 1 Axes>"
      ]
     },
     "metadata": {
      "needs_background": "light"
     },
     "output_type": "display_data"
    }
   ],
   "source": [
    "plt.bar([\"male\",\"female\"], [np.mean(EQ_Surv_m),np.mean(EQ_Surv_f)], color ='orange', width = 0.4) \n",
    "plt.ylim([0,90])\n",
    "plt.ylabel('Fare')\n",
    "plt.title('Embarked=Q|Survived=1')\n",
    "plt.show()"
   ]
  },
  {
   "cell_type": "markdown",
   "metadata": {},
   "source": [
    "## Question - 15"
   ]
  },
  {
   "cell_type": "code",
   "execution_count": 151,
   "metadata": {},
   "outputs": [],
   "source": [
    "\"\"\"Read the csv file using panda\"\"\"\n",
    "train_df = pd.read_csv('train.csv')\n",
    "test_df = pd.read_csv('test.csv')\n",
    "combine = [train_df, test_df]"
   ]
  },
  {
   "cell_type": "code",
   "execution_count": 152,
   "metadata": {},
   "outputs": [
    {
     "name": "stdout",
     "output_type": "stream",
     "text": [
      "The number of null values in the Cabin feature are: 687\n"
     ]
    }
   ],
   "source": [
    "# Check the information of cabin column\n",
    "print('The number of null values in the Cabin feature are:', train_df['Cabin'].isna().sum())"
   ]
  },
  {
   "cell_type": "markdown",
   "metadata": {},
   "source": [
    "## Question - 16"
   ]
  },
  {
   "cell_type": "code",
   "execution_count": 153,
   "metadata": {},
   "outputs": [],
   "source": [
    "\"\"\"Read the csv file using panda\"\"\"\n",
    "train_df = pd.read_csv('train.csv')\n",
    "test_df = pd.read_csv('test.csv')\n",
    "combine = [train_df, test_df]"
   ]
  },
  {
   "cell_type": "code",
   "execution_count": 162,
   "metadata": {},
   "outputs": [],
   "source": [
    "gender = pd.DataFrame(columns=['Gender'])\n"
   ]
  },
  {
   "cell_type": "code",
   "execution_count": 187,
   "metadata": {},
   "outputs": [],
   "source": [
    "for i in range(len(train_df['Sex'])):\n",
    "    if train_df['Sex'][i] == 'male':\n",
    "        gender.append([0])\n",
    "\n",
    "    if train_df['Sex'][i] == 'famle':\n",
    "        gender.append([1])\n",
    "\n",
    "    "
   ]
  },
  {
   "cell_type": "code",
   "execution_count": 164,
   "metadata": {},
   "outputs": [
    {
     "name": "stdout",
     "output_type": "stream",
     "text": [
      "Empty DataFrame\n",
      "Columns: [Gender]\n",
      "Index: []\n"
     ]
    }
   ],
   "source": [
    "print(gender)"
   ]
  },
  {
   "cell_type": "code",
   "execution_count": 188,
   "metadata": {},
   "outputs": [],
   "source": [
    "Gender = {\"male\": 0, \"female\": 1}\n",
    "mf_df=train_df[['PassengerId','Sex']].copy()\n",
    "mf_df['Sex'] = train_df['Sex'].map(Gender)"
   ]
  },
  {
   "cell_type": "markdown",
   "metadata": {},
   "source": [
    "## Question - 17"
   ]
  },
  {
   "cell_type": "code",
   "execution_count": 189,
   "metadata": {},
   "outputs": [],
   "source": [
    "\"\"\"Read the csv file using panda\"\"\"\n",
    "train_df = pd.read_csv('train.csv')\n",
    "test_df = pd.read_csv('test.csv')\n",
    "combine = [train_df, test_df]"
   ]
  },
  {
   "cell_type": "code",
   "execution_count": 191,
   "metadata": {},
   "outputs": [
    {
     "name": "stdout",
     "output_type": "stream",
     "text": [
      "The sum of non-null featrus: 0\n"
     ]
    }
   ],
   "source": [
    "mean = train_df['Age'].mean()\n",
    "std = train_df[\"Age\"].std()\n",
    "null_tot = train_df[\"Age\"].isnull().sum()\n",
    "random_age = np.random.randint(mean - std, mean + std, size = null_tot)\n",
    "age_copied = train_df[\"Age\"].copy()\n",
    "age_copied[np.isnan(age_filled)] = random_age\n",
    "train_df[\"Age\"] = age_copied\n",
    "print('The sum of non-null featrus:', train_df[\"Age\"].isnull().sum())"
   ]
  },
  {
   "cell_type": "markdown",
   "metadata": {},
   "source": [
    "## Question - 18"
   ]
  },
  {
   "cell_type": "code",
   "execution_count": 192,
   "metadata": {},
   "outputs": [],
   "source": [
    "embarked_2=train_df['Embarked'].describe()[2]\n",
    "train_df['Embarked'] = train_df['Embarked'].fillna(embarked_2)"
   ]
  },
  {
   "cell_type": "markdown",
   "metadata": {},
   "source": [
    "## Question - 19"
   ]
  },
  {
   "cell_type": "code",
   "execution_count": null,
   "metadata": {},
   "outputs": [],
   "source": [
    "fare=train_df['Fare'].append(test_df['Fare'],ignore_index=True) \n",
    "mode=fare.mode()[0]\n",
    "test_df['Fare'] = test_df['Fare'].fillna(mode)\n",
    "test_df['Fare'].isnull().sum()"
   ]
  },
  {
   "cell_type": "markdown",
   "metadata": {},
   "source": [
    "## Question - 20"
   ]
  },
  {
   "cell_type": "code",
   "execution_count": 193,
   "metadata": {},
   "outputs": [],
   "source": [
    "\"\"\"Read the csv file using panda\"\"\"\n",
    "train_df = pd.read_csv('train.csv')\n",
    "test_df = pd.read_csv('test.csv')\n",
    "combine = [train_df, test_df]"
   ]
  },
  {
   "cell_type": "code",
   "execution_count": 194,
   "metadata": {},
   "outputs": [],
   "source": [
    "new_train_data=train_df[['PassengerId','Fare']].copy()\n",
    "new_train_data.loc[np.logical_and(new_train_data['Fare'] > -0.001,new_train_data['Fare'] <= 7.91), 'Fare'] = 0\n",
    "new_train_data.loc[np.logical_and((new_train_data['Fare'] > 7.91) , new_train_data['Fare'] <= 14.454), 'Fare'] = 1\n",
    "new_train_data.loc[np.logical_and((new_train_data['Fare'] > 14.454) , new_train_data['Fare'] <= 31.0), 'Fare']   = 2\n",
    "new_train_data.loc[np.logical_and((new_train_data['Fare'] > 31.0) , new_train_data['Fare'] <= 512.329), 'Fare']   = 3\n",
    "new_train_data['Fare'] = new_train_data['Fare'].astype(int)"
   ]
  },
  {
   "cell_type": "code",
   "execution_count": null,
   "metadata": {},
   "outputs": [],
   "source": []
  }
 ],
 "metadata": {
  "kernelspec": {
   "display_name": "Python 3",
   "language": "python",
   "name": "python3"
  },
  "language_info": {
   "codemirror_mode": {
    "name": "ipython",
    "version": 3
   },
   "file_extension": ".py",
   "mimetype": "text/x-python",
   "name": "python",
   "nbconvert_exporter": "python",
   "pygments_lexer": "ipython3",
   "version": "3.8.5"
  }
 },
 "nbformat": 4,
 "nbformat_minor": 4
}
